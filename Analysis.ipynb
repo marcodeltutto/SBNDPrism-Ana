{
 "cells": [
  {
   "cell_type": "markdown",
   "metadata": {},
   "source": [
    "# SBND-PRISM Analysis"
   ]
  },
  {
   "cell_type": "code",
   "execution_count": 3,
   "metadata": {},
   "outputs": [],
   "source": [
    "import numpy as np\n",
    "import pandas as pd\n",
    "import matplotlib.pyplot as plt\n",
    "import uproot\n",
    "import math\n",
    "# from prism_tools import *\n",
    "\n",
    "%matplotlib inline\n",
    "%load_ext autoreload\n",
    "%autoreload 2\n",
    "\n",
    "_center_x = -73.78 # cm\n"
   ]
  },
  {
   "cell_type": "markdown",
   "metadata": {},
   "source": [
    "## Open files"
   ]
  },
  {
   "cell_type": "code",
   "execution_count": 4,
   "metadata": {},
   "outputs": [],
   "source": [
    "def get_ak_fv_cut():\n",
    "    return '(nu_vtx_x > -183.5) & (nu_vtx_x < 183.5) & (nu_vtx_y > -370/2) & (nu_vtx_y < 370/2)'\n"
   ]
  },
  {
   "cell_type": "markdown",
   "metadata": {},
   "source": [
    "Select branches to read.\n",
    "All available branches are listed here:\n",
    "https://github.com/SBNSoftware/sbndcode/blob/mdeltutt_sbnd_prism/sbndcode/SBNDPrism/PrismAnalyzer_module.cc#L95-L159"
   ]
  },
  {
   "cell_type": "code",
   "execution_count": 5,
   "metadata": {},
   "outputs": [],
   "source": [
    "branches = ['nu_pdg', 'nu_ccnc', 'nu_mode', 'nu_e', 'nu_vtx_x', 'nu_vtx_y', 'nu_vtx_z', 'nu_oaa']\n"
   ]
  },
  {
   "cell_type": "code",
   "execution_count": 6,
   "metadata": {},
   "outputs": [],
   "source": [
    "_df = {}\n",
    "_df_pot = {}\n",
    "\n",
    "#\n",
    "# BNB\n",
    "#\n",
    "file = uproot.open(\"~/Work/SBND/Prism/files/sbndprism_ana_sbnd_bnb_v09_42_00_v10.root\")\n",
    "_df_pot['bnb'] = file['prismana/pottree'].arrays(['pot'], library=\"pd\")\n",
    "\n",
    "cut = '(nu_ccnc == 0) & (nu_pdg == 14) & ' + get_ak_fv_cut()\n",
    "_df['numu_cc'] = file['prismana/tree'].arrays(branches, cut, library=\"pd\")\n",
    "\n",
    "cut = '(nu_ccnc == 0) & (nu_pdg == -14) & ' + get_ak_fv_cut()\n",
    "_df['anumu_cc'] = file['prismana/tree'].arrays(branches, cut, library=\"pd\")\n",
    "\n",
    "#\n",
    "# nue intrinsic\n",
    "#\n",
    "file = uproot.open(\"~/Work/SBND/Prism/files/sbndprism_ana_sbnd_nueintr_v09_42_00_v10.root\")\n",
    "_df_pot['nue_intr'] = file['prismana/pottree'].arrays(['pot'], library=\"pd\")\n",
    "\n",
    "cut = '(nu_ccnc == 0) & (nu_pdg == 12) & ' + get_ak_fv_cut()\n",
    "_df['nue_cc'] = file['prismana/tree'].arrays(branches, cut, library=\"pd\")\n",
    "\n",
    "cut = '(nu_ccnc == 0) & (nu_pdg == -12) & ' + get_ak_fv_cut()\n",
    "_df['anue_cc'] = file['prismana/tree'].arrays(branches, cut, library=\"pd\")\n"
   ]
  },
  {
   "cell_type": "code",
   "execution_count": 7,
   "metadata": {},
   "outputs": [
    {
     "data": {
      "text/html": [
       "<div>\n",
       "<style scoped>\n",
       "    .dataframe tbody tr th:only-of-type {\n",
       "        vertical-align: middle;\n",
       "    }\n",
       "\n",
       "    .dataframe tbody tr th {\n",
       "        vertical-align: top;\n",
       "    }\n",
       "\n",
       "    .dataframe thead th {\n",
       "        text-align: right;\n",
       "    }\n",
       "</style>\n",
       "<table border=\"1\" class=\"dataframe\">\n",
       "  <thead>\n",
       "    <tr style=\"text-align: right;\">\n",
       "      <th></th>\n",
       "      <th>nu_pdg</th>\n",
       "      <th>nu_ccnc</th>\n",
       "      <th>nu_mode</th>\n",
       "      <th>nu_e</th>\n",
       "      <th>nu_vtx_x</th>\n",
       "      <th>nu_vtx_y</th>\n",
       "      <th>nu_vtx_z</th>\n",
       "      <th>nu_oaa</th>\n",
       "    </tr>\n",
       "  </thead>\n",
       "  <tbody>\n",
       "    <tr>\n",
       "      <td>0</td>\n",
       "      <td>14</td>\n",
       "      <td>0</td>\n",
       "      <td>0</td>\n",
       "      <td>0.803447</td>\n",
       "      <td>-155.829254</td>\n",
       "      <td>-30.207981</td>\n",
       "      <td>485.269836</td>\n",
       "      <td>0.007613</td>\n",
       "    </tr>\n",
       "    <tr>\n",
       "      <td>3</td>\n",
       "      <td>14</td>\n",
       "      <td>0</td>\n",
       "      <td>2</td>\n",
       "      <td>2.587900</td>\n",
       "      <td>78.746162</td>\n",
       "      <td>172.837677</td>\n",
       "      <td>365.987457</td>\n",
       "      <td>0.020278</td>\n",
       "    </tr>\n",
       "    <tr>\n",
       "      <td>5</td>\n",
       "      <td>14</td>\n",
       "      <td>0</td>\n",
       "      <td>0</td>\n",
       "      <td>0.383647</td>\n",
       "      <td>102.023636</td>\n",
       "      <td>-129.948151</td>\n",
       "      <td>245.517761</td>\n",
       "      <td>0.019438</td>\n",
       "    </tr>\n",
       "    <tr>\n",
       "      <td>6</td>\n",
       "      <td>14</td>\n",
       "      <td>0</td>\n",
       "      <td>2</td>\n",
       "      <td>5.099327</td>\n",
       "      <td>-123.550369</td>\n",
       "      <td>-64.986366</td>\n",
       "      <td>290.242188</td>\n",
       "      <td>0.007250</td>\n",
       "    </tr>\n",
       "    <tr>\n",
       "      <td>7</td>\n",
       "      <td>14</td>\n",
       "      <td>0</td>\n",
       "      <td>1</td>\n",
       "      <td>2.230954</td>\n",
       "      <td>91.664597</td>\n",
       "      <td>-117.292717</td>\n",
       "      <td>315.576263</td>\n",
       "      <td>0.017921</td>\n",
       "    </tr>\n",
       "  </tbody>\n",
       "</table>\n",
       "</div>"
      ],
      "text/plain": [
       "   nu_pdg  nu_ccnc  nu_mode      nu_e    nu_vtx_x    nu_vtx_y    nu_vtx_z  \\\n",
       "0      14        0        0  0.803447 -155.829254  -30.207981  485.269836   \n",
       "3      14        0        2  2.587900   78.746162  172.837677  365.987457   \n",
       "5      14        0        0  0.383647  102.023636 -129.948151  245.517761   \n",
       "6      14        0        2  5.099327 -123.550369  -64.986366  290.242188   \n",
       "7      14        0        1  2.230954   91.664597 -117.292717  315.576263   \n",
       "\n",
       "     nu_oaa  \n",
       "0  0.007613  \n",
       "3  0.020278  \n",
       "5  0.019438  \n",
       "6  0.007250  \n",
       "7  0.017921  "
      ]
     },
     "execution_count": 7,
     "metadata": {},
     "output_type": "execute_result"
    }
   ],
   "source": [
    "_df['numu_cc'].head()"
   ]
  },
  {
   "cell_type": "markdown",
   "metadata": {},
   "source": [
    "## Get file POT"
   ]
  },
  {
   "cell_type": "code",
   "execution_count": 8,
   "metadata": {},
   "outputs": [
    {
     "name": "stdout",
     "output_type": "stream",
     "text": [
      "BNB POT: 1.104046776281961e+20\n",
      "NuE Intr. POT: 1.3592852872055325e+22\n"
     ]
    }
   ],
   "source": [
    "pot_target = 6.6e20\n",
    "\n",
    "pot_bnb = np.sum(_df_pot['bnb']['pot'].to_numpy())\n",
    "pot_nue_intr = np.sum(_df_pot['nue_intr']['pot'].to_numpy())\n",
    "\n",
    "_scale = {\n",
    "    'bnb': pot_target / pot_bnb,\n",
    "    'nue_intr': pot_target / pot_nue_intr,\n",
    "}\n",
    "\n",
    "_scale['numu_cc'] = _scale['bnb']\n",
    "_scale['anumu_cc'] = _scale['bnb']\n",
    "_scale['nue_cc'] = _scale['nue_intr']\n",
    "_scale['anue_cc'] = _scale['nue_intr']\n",
    "\n",
    "print('BNB POT:', pot_bnb)\n",
    "print('NuE Intr. POT:', pot_nue_intr)\n"
   ]
  },
  {
   "cell_type": "code",
   "execution_count": 9,
   "metadata": {},
   "outputs": [
    {
     "name": "stdout",
     "output_type": "stream",
     "text": [
      "Total number of numu CC events: 3599107.289078477\n",
      "Total number of nue CC events: 26119.29837995196\n"
     ]
    }
   ],
   "source": [
    "print('Total number of numu CC events:', len(_df['numu_cc']) * _scale['numu_cc'])\n",
    "print('Total number of nue CC events:', len(_df['nue_cc']) * _scale['nue_cc'])\n"
   ]
  },
  {
   "cell_type": "code",
   "execution_count": 10,
   "metadata": {},
   "outputs": [
    {
     "data": {
      "text/plain": [
       "0.017453292519943295"
      ]
     },
     "execution_count": 10,
     "metadata": {},
     "output_type": "execute_result"
    }
   ],
   "source": [
    "math.radians(1.)"
   ]
  },
  {
   "cell_type": "markdown",
   "metadata": {},
   "source": [
    "## Plot muon neutrino energy"
   ]
  },
  {
   "cell_type": "code",
   "execution_count": 11,
   "metadata": {},
   "outputs": [
    {
     "data": {
      "image/png": "[encoded data removed]",
      "text/plain": [
       "<Figure size 648x504 with 1 Axes>"
      ]
     },
     "metadata": {
      "needs_background": "light"
     },
     "output_type": "display_data"
    }
   ],
   "source": [
    "fig, ax = plt.subplots(ncols=1, nrows=1, figsize=(9, 7))\n",
    "\n",
    "data = _df['numu_cc']['nu_e'].values\n",
    "ax.hist(data, range=[0, 3], bins=50,\n",
    "        histtype='step',\n",
    "        label=r'All')\n",
    "\n",
    "data = _df['numu_cc'].query('nu_oaa < 0.0174')['nu_e'].values\n",
    "ax.hist(data, range=[0, 3], bins=50,\n",
    "        histtype='step',\n",
    "        label=r'OAA < 1$\\degree$')\n",
    "\n",
    "data = _df['numu_cc'].query('nu_oaa >= 0.0174')['nu_e'].values\n",
    "ax.hist(data, range=[0, 3], bins=50,\n",
    "        histtype='step',\n",
    "        label=r'OAA >= 1$\\degree$')\n",
    "    \n",
    "ax.legend(fontsize=16, loc='best')\n",
    "ax.set_ylabel(r'$\\nu_{\\mu}$ CC Events', fontsize=18)\n",
    "ax.set_xlabel('Neutrino Energy [GeV]',fontsize=18)\n",
    "ax.tick_params(labelsize=15)\n",
    "ax.grid(True)\n",
    "\n",
    "# plt.savefig('numu_events.pdf')\n",
    "plt.show()\n"
   ]
  },
  {
   "cell_type": "code",
   "execution_count": 16,
   "metadata": {},
   "outputs": [
    {
     "name": "stdout",
     "output_type": "stream",
     "text": [
      "0.0 0.003490658503988659\n",
      "0.003490658503988659 0.006981317007977318\n",
      "0.006981317007977318 0.010471975511965976\n",
      "0.010471975511965976 0.013962634015954637\n",
      "0.013962634015954637 0.017453292519943295\n",
      "0.017453292519943295 0.020943951023931952\n",
      "0.020943951023931952 0.024434609527920613\n",
      "0.024434609527920613 0.027925268031909273\n"
     ]
    },
    {
     "data": {
      "image/png": "[encoded data removed]",
      "text/plain": [
       "<Figure size 648x504 with 1 Axes>"
      ]
     },
     "metadata": {
      "needs_background": "light"
     },
     "output_type": "display_data"
    }
   ],
   "source": [
    "oaas = [(0.0,0.2), (0.2,0.4), (0.4,0.6), (0.6,0.8), (0.8,1.0), (1.0,1.2), (1.2,1.4), (1.4,1.6)]\n",
    "\n",
    "fig, ax = plt.subplots(ncols=1, nrows=1, figsize=(9, 7))\n",
    "\n",
    "for oaa in oaas:\n",
    "    oaa_min = math.radians(oaa[0])\n",
    "    oaa_max = math.radians(oaa[1])\n",
    "    # print(oaa_min, oaa_max)\n",
    "    data = _df['numu_cc'].query('nu_oaa > @oaa_min and nu_oaa < @oaa_max')['nu_e'].values\n",
    "    \n",
    "    ax.hist(data, range=[0, 3], bins=50, density=True,\n",
    "            histtype='step',\n",
    "            label=f'OAA $\\in [{oaa[0]:.1f}\\degree, {oaa[1]:.1f}\\degree)$')\n",
    "\n",
    "ax.legend(fontsize=16, loc='best')\n",
    "ax.set_ylabel(r'$\\nu_{\\mu}$ CC Events', fontsize=18)\n",
    "ax.set_xlabel('Neutrino Energy [GeV]',fontsize=18)\n",
    "ax.tick_params(labelsize=15)\n",
    "ax.grid(True)\n",
    "\n",
    "plt.show()"
   ]
  },
  {
   "cell_type": "code",
   "execution_count": null,
   "metadata": {},
   "outputs": [],
   "source": []
  },
  {
   "cell_type": "code",
   "execution_count": null,
   "metadata": {},
   "outputs": [],
   "source": []
  }
 ],
 "metadata": {
  "kernelspec": {
   "display_name": "Python 3",
   "language": "python",
   "name": "python3"
  },
  "language_info": {
   "codemirror_mode": {
    "name": "ipython",
    "version": 3
   },
   "file_extension": ".py",
   "mimetype": "text/x-python",
   "name": "python",
   "nbconvert_exporter": "python",
   "pygments_lexer": "ipython3",
   "version": "3.7.4"
  }
 },
 "nbformat": 4,
 "nbformat_minor": 4
}
